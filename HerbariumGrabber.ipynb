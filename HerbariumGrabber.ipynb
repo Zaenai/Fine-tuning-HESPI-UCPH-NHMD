{
 "cells": [
  {
   "cell_type": "code",
   "execution_count": 1,
   "id": "d14cfee8-c871-425d-aac6-0b17aae711d5",
   "metadata": {},
   "outputs": [],
   "source": [
    "import requests\n",
    "import pandas as pd\n",
    "import numpy as np\n",
    "import matplotlib.pyplot as plt\n",
    "import os\n",
    "import time\n",
    "\n",
    "r = np.random\n",
    "\n",
    "IMAGE_PATH = os.path.join(os.getcwd(), \"images\")\n",
    "IMAGES_CUR = os.listdir(IMAGE_PATH)"
   ]
  },
  {
   "cell_type": "code",
   "execution_count": 2,
   "id": "38d6c73d-a704-43b7-8e73-801955f300d4",
   "metadata": {},
   "outputs": [],
   "source": [
    "def GrabImage(filename):\n",
    "    downloadname = filename\n",
    "    \n",
    "    URL_part_1 = r\"\"\n",
    "    URL_part_2 = f\"filename={filename}&downloadname={downloadname}\"\n",
    "    \n",
    "    URL = URL_part_1 + URL_part_2\n",
    "    \n",
    "    response = requests.get(URL)\n",
    "    \n",
    "    if response.status_code == 200:\n",
    "        with open(os.path.join(IMAGE_PATH, downloadname), 'wb') as file:\n",
    "            file.write(response.content)\n",
    "    else:\n",
    "        print(response.status_code)\n",
    "        return False\n",
    "    \n",
    "    return True\n"
   ]
  },
  {
   "cell_type": "code",
   "execution_count": 3,
   "id": "dbdd322c-3395-4ad9-9107-6ca68b93f2d7",
   "metadata": {},
   "outputs": [],
   "source": [
    "Sheets = pd.read_csv(\"Greenland Herbarium Project 29-04-25.csv\", delimiter=\";\", dtype=str)"
   ]
  },
  {
   "cell_type": "code",
   "execution_count": 4,
   "id": "c93669eb-1b38-4686-8430-cf08dec022a8",
   "metadata": {},
   "outputs": [],
   "source": [
    "images_available = Sheets[Sheets.columns[-4]].unique()\n",
    "r.shuffle(images_available)"
   ]
  },
  {
   "cell_type": "code",
   "execution_count": 5,
   "id": "563d42c8-628e-444b-9ca0-935d3131289c",
   "metadata": {},
   "outputs": [],
   "source": [
    "for idx,pid in enumerate(images_available):\n",
    "    if pid not in IMAGES_CUR:\n",
    "        time.sleep(r.randint(55,65) + r.rand())\n",
    "        #print(pid)\n",
    "        if not GrabImage(pid):\n",
    "            break\n",
    "        if idx > 96:\n",
    "            break"
   ]
  },
  {
   "cell_type": "code",
   "execution_count": null,
   "id": "28ffe84f-06f2-4458-b8b0-1f2b19cbb9e5",
   "metadata": {},
   "outputs": [],
   "source": []
  },
  {
   "cell_type": "code",
   "execution_count": null,
   "id": "93dac682-b610-43fc-891b-1bc527e3bf5e",
   "metadata": {},
   "outputs": [],
   "source": []
  },
  {
   "cell_type": "code",
   "execution_count": null,
   "id": "5ee34567-2e84-45f5-aedd-cfe66f966170",
   "metadata": {},
   "outputs": [],
   "source": []
  },
  {
   "cell_type": "code",
   "execution_count": null,
   "id": "d4ddb090-ee02-455f-a19c-e42815aa923a",
   "metadata": {},
   "outputs": [],
   "source": []
  }
 ],
 "metadata": {
  "kernelspec": {
   "display_name": "Python 3 (ipykernel)",
   "language": "python",
   "name": "python3"
  },
  "language_info": {
   "codemirror_mode": {
    "name": "ipython",
    "version": 3
   },
   "file_extension": ".py",
   "mimetype": "text/x-python",
   "name": "python",
   "nbconvert_exporter": "python",
   "pygments_lexer": "ipython3",
   "version": "3.11.2"
  }
 },
 "nbformat": 4,
 "nbformat_minor": 5
}
